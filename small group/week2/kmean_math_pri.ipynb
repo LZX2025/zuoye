{
 "cells": [
  {
   "cell_type": "markdown",
   "id": "9d1aecff-e983-47da-b02b-b2b062f43a44",
   "metadata": {},
   "source": [
    "# K-Means 聚类算法数学原理\n",
    "\n",
    "## 1. 距离\n",
    "使用欧几里得距离的平方：\n",
    "$$\n",
    "D(\\mathbf{x}, \\mathbf{c}) = \\sum_{i=1}^{d} (x_i - c_i)^2 = \\|\\mathbf{x} - \\mathbf{c}\\|^2\n",
    "$$\n",
    "其中 $\\mathbf{x}$ 是数据点，$\\mathbf{c}$ 是簇中心，$d$ 是特征维度。\n",
    "\n",
    "## 2. SEE\n",
    "$$\n",
    "J = \\sum_{i=1}^{k} \\sum_{\\mathbf{x} \\in C_i} \\|\\mathbf{x} - \\mathbf{c}_i\\|^2\n",
    "$$\n",
    "其中 $k$ 是簇数量，$C_i$ 是第 $i$ 个簇的点集合。\n",
    "\n",
    "## 3. 算法\n",
    "\n",
    "### 3.1 初始化中心点\n",
    "1. 随机选择第一个中心点 $\\mathbf{c}_1$\n",
    "2. 对于后续中心点 $\\mathbf{c}_m$ ($m=2..k$)，选择使最小距离最大的点：\n",
    "$$\n",
    "\\mathbf{c}_m = \\arg\\max_{\\mathbf{x}} \\left[ \\min D(\\mathbf{x}, \\mathbf{c}_j) \\right]\n",
    "$$\n",
    "\n",
    "### 3.2 分配标签\n",
    "$$\n",
    "z_i = \\arg\\min_{j} \\|\\mathbf{x}_i - \\mathbf{c}_j\\|^2\n",
    "$$\n",
    "\n",
    "### 3.3 更新）\n",
    "重新计算每个簇的中心：\n",
    "$$\n",
    "\\mathbf{c}_j = \\frac{1}{|C_j|} \\sum_{\\mathbf{x}_i \\in C_j} \\mathbf{x}_i\n",
    "$$\n",
    "其中 $|C_j|$ 是第 $j$ 个簇的样本数。\n",
    "\n",
    "### 3.4 收敛条件\n",
    "当中心点变化小于阈值 $\\epsilon$ （默认值）时停止：\n",
    "$$\n",
    "\\max_j \\|\\mathbf{c}_j^{(t)} - \\mathbf{c}_j^{(t-1)}\\| < \\epsilon\n",
    "$$\n"
   ]
  }
 ],
 "metadata": {
  "kernelspec": {
   "display_name": "Python [conda env:base] *",
   "language": "python",
   "name": "conda-base-py"
  },
  "language_info": {
   "codemirror_mode": {
    "name": "ipython",
    "version": 3
   },
   "file_extension": ".py",
   "mimetype": "text/x-python",
   "name": "python",
   "nbconvert_exporter": "python",
   "pygments_lexer": "ipython3",
   "version": "3.12.7"
  }
 },
 "nbformat": 4,
 "nbformat_minor": 5
}
