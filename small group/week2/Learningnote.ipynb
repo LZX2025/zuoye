{
 "cells": [
  {
   "cell_type": "markdown",
   "id": "46bd2b7f-9200-4e89-a442-11d382fce0b9",
   "metadata": {},
   "source": [
    "# deeplizard 深度学习学习笔记  \n",
    "### 1  \n",
    ">机器学习是使用算法分析数据，从数据中学习，然后对新数据做出确定或预测的做法。  \n",
    "### 2  \n",
    ">深度学习是机器学习的一个子领域，它使用受大脑神经网络结构和功能启发的算法。   \n",
    ">人工神经网络是使用我们所谓的神经元构建的。  \n",
    "ANN 中的神经元被组织成我们所说的层。  \n",
    "ANN 中的图层（除输入和输出图层之外的所有图层）称为隐藏图层。  \n",
    "如果 ANN 具有多个隐藏层，则称该 ANN 为深度 ANN。  \n",
    "### 3  \n",
    ">Input layer （输入层） - 输入数据的每个组件对应一个节点。  \n",
    "隐藏层 - 为每个隐藏层任意选择的节点数。  \n",
    "Output layer （输出层） - 每个可能的所需输出对应一个节点。  \n",
    ">Keras\n",
    "### 4  \n",
    ">不同的层对其输入执行不同的转换，并且某些层比其他层更适合某些任务。  \n",
    ">节点输出 = 激活（输入的加权和  "
   ]
  },
  {
   "cell_type": "raw",
   "id": "43eda3e5-0a57-4f85-b273-7654ad85819f",
   "metadata": {},
   "source": [
    "from keras.models import Sequential\n",
    "from keras.layers import Dense, Activation\n",
    "\n",
    "layers = [\n",
    "    Dense(units=6, input_shape=(8,), activation='relu'),\n",
    "    Dense(units=6, activation='relu'),\n",
    "    Dense(units=4, activation='softmax')\n",
    "]\n",
    "\n",
    "model = Sequential(layers)"
   ]
  },
  {
   "cell_type": "markdown",
   "id": "3a49ace0-1cdd-4822-9b7b-457ff130e1e5",
   "metadata": {},
   "source": [
    "### 5  \n",
    ">在人工神经网络中，激活函数是将节点的输入映射到其相应输出的函数。  \n",
    ">Relu, Sigmoid  \n",
    "### 6  \n",
    ">最广为人知的优化器称为随机梯度下降，SGD。\n",
    "### 7  \n",
    ">The learning rate tells us how large of a step we should take in the direction of the minimum.  \n",
    ">new weight = old weight - learningrate * gradient  "
   ]
  },
  {
   "cell_type": "raw",
   "id": "359958ea-166a-433b-88cc-2e8e5b2a374d",
   "metadata": {},
   "source": [
    "model.compile(  \n",
    "    optimizer=Adam(learning_rate=0.0001),   \n",
    "    loss='sparse_categorical_crossentropy',   \n",
    "    metrics=['accuracy']  \n",
    ")  "
   ]
  },
  {
   "cell_type": "markdown",
   "id": "80841f81-8eab-445a-a5cb-b2a9303d7736",
   "metadata": {},
   "source": [
    "### 8\n",
    ">MSE(input) = (output - lanel) ** 2  \n",
    ">Keras 当前可用的损失函数如下：  \n",
    "mean_squared_error  \n",
    "mean_absolute_error  \n",
    "mean_absolute_percentage_error  \n",
    "mean_squared_logarithmic_error  \n",
    "squared_hinge  \n",
    "铰链  \n",
    "categorical_hinge  \n",
    "洛科什  \n",
    "categorical_crossentropy  \n",
    "sparse_categorical_crossentropy  \n",
    "binary_crossentropy  \n",
    "kullback_leibler_divergence  \n",
    "泊 松  \n",
    "cosine_proximity  \n",
    "看不懂但是复制一下  \n",
    "### 9\n",
    ">学习率巴拉巴拉\n",
    "### 10\n",
    ">\n",
    "训练集   \t用于训练模型。训练的目标是使模型适应训练集，同时仍泛化到看不见的数据。  \n",
    "验证集\t\t在训练期间用于检查模型的泛化程度。  \n",
    "测试集\t\t用于在部署到生产环境之前测试模型的最终泛化能力。\n",
    "\n",
    "# 总结\n",
    "Video微软翻译是看视频， 所以TEXT翻译是打电话  \n",
    "看书前先找目录  \n",
    "别老想着看视频，加载不出来的  "
   ]
  }
 ],
 "metadata": {
  "kernelspec": {
   "display_name": "Python [conda env:base] *",
   "language": "python",
   "name": "conda-base-py"
  },
  "language_info": {
   "codemirror_mode": {
    "name": "ipython",
    "version": 3
   },
   "file_extension": ".py",
   "mimetype": "text/x-python",
   "name": "python",
   "nbconvert_exporter": "python",
   "pygments_lexer": "ipython3",
   "version": "3.12.7"
  }
 },
 "nbformat": 4,
 "nbformat_minor": 5
}
