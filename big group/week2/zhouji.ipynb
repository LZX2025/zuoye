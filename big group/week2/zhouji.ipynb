{
 "cells": [
  {
   "cell_type": "markdown",
   "id": "ea67709f-6a65-4131-8e49-0534d4767c25",
   "metadata": {},
   "source": [
    "# 周记week2  \n",
    "周六：作业偏少登个龙先（）；  \n",
    "周日：计算器debug，de了一天，小组作业这b资源怎么全英的；  \n",
    "周一：b站的课怎么也全英的；上周高数作业没交\n",
    "周二：丸旦线代下周考试；  \n",
    "周三：上课， 图论巴拉巴拉，智能体巴拉巴拉  \n",
    "周四：继续图论巴拉巴拉， 智能体巴拉巴拉，（还有作业好像不少）  \n",
    "（不兑今天pjsk开服mujika完结crgj更新）  \n",
    "速通英语作业\n",
    "周五：写周记，写完看差分隐私\n",
    "\n",
    "### 总结  \n",
    "作业早点写  \n",
    "win11别更新  \n",
    "vscode天天发病  \n"
   ]
  }
 ],
 "metadata": {
  "kernelspec": {
   "display_name": "Python [conda env:base] *",
   "language": "python",
   "name": "conda-base-py"
  },
  "language_info": {
   "codemirror_mode": {
    "name": "ipython",
    "version": 3
   },
   "file_extension": ".py",
   "mimetype": "text/x-python",
   "name": "python",
   "nbconvert_exporter": "python",
   "pygments_lexer": "ipython3",
   "version": "3.12.7"
  }
 },
 "nbformat": 4,
 "nbformat_minor": 5
}
