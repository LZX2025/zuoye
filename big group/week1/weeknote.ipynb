{
 "cells": [
  {
   "cell_type": "markdown",
   "id": "564ce23a-913b-4a65-8fa9-4dbff0ed4fc3",
   "metadata": {},
   "source": [
    "# **周记**\n",
    ">**随记**  \n",
    ">矩阵，啊……矩阵…… ，矩阵，敬请见证  \n",
    ">是矩阵的时候了， 正应如此，献上矩阵吧  \n",
    ">我没资格，啊我没资格  \n",
    "\n",
    ">**总结/问题**  \n",
    ">该学线代了  \n",
    ">关jupyter之前记得保存  \n",
    ">记得写周记  \n",
    ">写代码带多点注释\n",
    "\n",
    ">**下周规划**  \n",
    ">线代  \n",
    ">SVD  \n",
    ">小组学习内容  "
   ]
  }
 ],
 "metadata": {
  "kernelspec": {
   "display_name": "Python [conda env:base] *",
   "language": "python",
   "name": "conda-base-py"
  },
  "language_info": {
   "codemirror_mode": {
    "name": "ipython",
    "version": 3
   },
   "file_extension": ".py",
   "mimetype": "text/x-python",
   "name": "python",
   "nbconvert_exporter": "python",
   "pygments_lexer": "ipython3",
   "version": "3.12.7"
  }
 },
 "nbformat": 4,
 "nbformat_minor": 5
}
